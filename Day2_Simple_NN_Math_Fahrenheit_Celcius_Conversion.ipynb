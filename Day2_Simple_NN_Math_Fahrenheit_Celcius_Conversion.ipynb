{
  "nbformat": 4,
  "nbformat_minor": 0,
  "metadata": {
    "colab": {
      "name": "Day2_Simple_NN_Math_Fahrenheit_Celcius_Conversion.ipynb",
      "provenance": [],
      "collapsed_sections": [],
      "include_colab_link": true
    },
    "kernelspec": {
      "name": "python3",
      "display_name": "Python 3"
    },
    "language_info": {
      "name": "python"
    }
  },
  "cells": [
    {
      "cell_type": "markdown",
      "metadata": {
        "id": "view-in-github",
        "colab_type": "text"
      },
      "source": [
        "<a href=\"https://colab.research.google.com/github/sule2/gaih_deep_learning/blob/main/Day2_Simple_NN_Math_Fahrenheit_Celcius_Conversion.ipynb\" target=\"_parent\"><img src=\"https://colab.research.google.com/assets/colab-badge.svg\" alt=\"Open In Colab\"/></a>"
      ]
    },
    {
      "cell_type": "markdown",
      "metadata": {
        "id": "Y9yZwqgS8Zxe"
      },
      "source": [
        "## FAHRENHEIT - CELCIUS CONVERSION"
      ]
    },
    {
      "cell_type": "markdown",
      "metadata": {
        "id": "PsXM0T_R8X4O"
      },
      "source": [
        "![fahrenheit_to_celsius_formulas.png](data:image/png;base64,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)"
      ]
    },
    {
      "cell_type": "code",
      "metadata": {
        "id": "JoMYnrPiAuo_"
      },
      "source": [
        "#import required modules\n",
        "from tensorflow import keras\n",
        "import numpy as np\n",
        "from keras.models import Sequential\n",
        "from keras.layers.core import Dense"
      ],
      "execution_count": null,
      "outputs": []
    },
    {
      "cell_type": "code",
      "metadata": {
        "id": "8cZx9g5GBI7d"
      },
      "source": [
        "def TrainValidateModel():\n",
        "  celcius_degrees    = np.array([-40, -10,  0,  8, 15, 22,  38],  dtype=float)\n",
        "  fahrenheit_degrees = np.array([-40,  14, 32, 46, 59, 72, 100],  dtype=float)\n",
        "\n",
        "  model = keras.Sequential()\n",
        "  model.add(Dense(1)) # Output layer has 1 neuron\n",
        "\n",
        "  model.compile(loss='mean_squared_error', optimizer=keras.optimizers.Adam(0.1)) #0.1 here is the learning rate\n",
        "\n",
        "  model.fit(celcius_degrees, fahrenheit_degrees, epochs=500, verbose=False)\n",
        "\n",
        "  ValidateModel(model, celcius_degrees, fahrenheit_degrees)\n",
        "\n",
        "  return model"
      ],
      "execution_count": null,
      "outputs": []
    },
    {
      "cell_type": "code",
      "metadata": {
        "id": "O6j9LzYrAqdZ"
      },
      "source": [
        "def ValidateModel(model, celcius_degrees, fahrenheit_degrees):\n",
        "  predictions = model.predict(celcius_degrees)\n",
        "\n",
        "  for idx in range(len(predictions)):\n",
        "    print(f\"[{celcius_degrees[idx]}] C degree -> Prediction Fahrenheit Value - Actual Fahrenheit Value : {predictions[idx]} F - [{fahrenheit_degrees[idx]}] F\")"
      ],
      "execution_count": null,
      "outputs": []
    },
    {
      "cell_type": "code",
      "metadata": {
        "id": "0mooQHDQD_2k"
      },
      "source": [
        "def PredictCelcius(model, celcius_degree):\n",
        "  return model.predict(np.array([celcius_degree]))"
      ],
      "execution_count": null,
      "outputs": []
    },
    {
      "cell_type": "code",
      "metadata": {
        "id": "0CXlTIcdAxT-",
        "colab": {
          "base_uri": "https://localhost:8080/"
        },
        "outputId": "6a15097d-07d3-4f00-abf1-2d33daf2531c"
      },
      "source": [
        "model = TrainValidateModel()"
      ],
      "execution_count": null,
      "outputs": [
        {
          "output_type": "stream",
          "name": "stdout",
          "text": [
            "[-40.0] C degree -> Prediction Fahrenheit Value - Actual Fahrenheit Value : [-44.48803] F - [-40.0] F\n",
            "[-10.0] C degree -> Prediction Fahrenheit Value - Actual Fahrenheit Value : [10.3216305] F - [14.0] F\n",
            "[0.0] C degree -> Prediction Fahrenheit Value - Actual Fahrenheit Value : [28.591516] F - [32.0] F\n",
            "[8.0] C degree -> Prediction Fahrenheit Value - Actual Fahrenheit Value : [43.207428] F - [46.0] F\n",
            "[15.0] C degree -> Prediction Fahrenheit Value - Actual Fahrenheit Value : [55.996346] F - [59.0] F\n",
            "[22.0] C degree -> Prediction Fahrenheit Value - Actual Fahrenheit Value : [68.78527] F - [72.0] F\n",
            "[38.0] C degree -> Prediction Fahrenheit Value - Actual Fahrenheit Value : [98.01708] F - [100.0] F\n"
          ]
        }
      ]
    },
    {
      "cell_type": "code",
      "metadata": {
        "id": "QQKBUyaREppS",
        "colab": {
          "base_uri": "https://localhost:8080/"
        },
        "outputId": "cb51be0a-d87b-47d5-fad3-f93f6c2c538b"
      },
      "source": [
        "prediction_celcius = int(input(\"Please enter the C value you want to predict of it's F: \"))\n",
        "print(PredictCelcius(model, prediction_celcius))"
      ],
      "execution_count": null,
      "outputs": [
        {
          "output_type": "stream",
          "name": "stdout",
          "text": [
            "Please enter the C value you want to predict of it's F: 20\n",
            "[[65.13129]]\n"
          ]
        }
      ]
    },
    {
      "cell_type": "code",
      "metadata": {
        "id": "HPa3wvJjEbsW",
        "colab": {
          "base_uri": "https://localhost:8080/"
        },
        "outputId": "c04005ca-0cd8-4955-ec34-fdc2c7077a2a"
      },
      "source": [
        "model.weights"
      ],
      "execution_count": null,
      "outputs": [
        {
          "output_type": "execute_result",
          "data": {
            "text/plain": [
              "[<tf.Variable 'dense/kernel:0' shape=(1, 1) dtype=float32, numpy=array([[1.8269887]], dtype=float32)>,\n",
              " <tf.Variable 'dense/bias:0' shape=(1,) dtype=float32, numpy=array([28.591516], dtype=float32)>]"
            ]
          },
          "metadata": {},
          "execution_count": 13
        }
      ]
    },
    {
      "cell_type": "code",
      "metadata": {
        "id": "OhhDfrK_DWKQ"
      },
      "source": [
        ""
      ],
      "execution_count": null,
      "outputs": []
    }
  ]
}